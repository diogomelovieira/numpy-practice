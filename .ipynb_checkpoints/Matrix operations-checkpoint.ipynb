{
 "cells": [
  {
   "cell_type": "code",
   "execution_count": 2,
   "metadata": {},
   "outputs": [
    {
     "data": {
      "text/plain": [
       "array([ 6,  7,  8,  9, 10])"
      ]
     },
     "execution_count": 2,
     "metadata": {},
     "output_type": "execute_result"
    }
   ],
   "source": [
    "import numpy as np\n",
    "values = [1,2,3,4,5]\n",
    "values = np.array(values) + 5 ###add the scalar 5 to the vector values\n",
    "values\n"
   ]
  },
  {
   "cell_type": "code",
   "execution_count": 4,
   "metadata": {},
   "outputs": [
    {
     "data": {
      "text/plain": [
       "array([ 5, 10, 15, 20, 25])"
      ]
     },
     "execution_count": 4,
     "metadata": {},
     "output_type": "execute_result"
    }
   ],
   "source": [
    "x = [1,2,3,4,5]\n",
    "x = np.array(x) * 5 ###multiple by a scalar\n",
    "x"
   ]
  },
  {
   "cell_type": "code",
   "execution_count": 6,
   "metadata": {},
   "outputs": [
    {
     "data": {
      "text/plain": [
       "[]"
      ]
     },
     "execution_count": 6,
     "metadata": {},
     "output_type": "execute_result"
    }
   ],
   "source": [
    "x = [1,2,3,4,5]\n",
    "x *=0 ###turn all values of the matrix in 0\n",
    "x"
   ]
  },
  {
   "cell_type": "code",
   "execution_count": 9,
   "metadata": {},
   "outputs": [
    {
     "data": {
      "text/plain": [
       "array([[ 3,  7],\n",
       "       [11, 15]])"
      ]
     },
     "execution_count": 9,
     "metadata": {},
     "output_type": "execute_result"
    }
   ],
   "source": [
    "###Basic adding operation\n",
    "a = np.array([[1,3],[5,7]])\n",
    "b = np.array([[2,4],[6,8]])\n",
    "a+b"
   ]
  },
  {
   "cell_type": "code",
   "execution_count": 12,
   "metadata": {},
   "outputs": [
    {
     "ename": "ValueError",
     "evalue": "operands could not be broadcast together with shapes (2,2) (3,3) ",
     "output_type": "error",
     "traceback": [
      "\u001b[1;31m---------------------------------------------------------------------------\u001b[0m",
      "\u001b[1;31mValueError\u001b[0m                                Traceback (most recent call last)",
      "\u001b[1;32m<ipython-input-12-77c0142c7da2>\u001b[0m in \u001b[0;36m<module>\u001b[1;34m()\u001b[0m\n\u001b[0;32m      1\u001b[0m \u001b[1;31m###Not compatible matrix, 2x2 and 3x3\u001b[0m\u001b[1;33m\u001b[0m\u001b[1;33m\u001b[0m\u001b[0m\n\u001b[0;32m      2\u001b[0m \u001b[0mc\u001b[0m \u001b[1;33m=\u001b[0m \u001b[0mnp\u001b[0m\u001b[1;33m.\u001b[0m\u001b[0marray\u001b[0m\u001b[1;33m(\u001b[0m\u001b[1;33m[\u001b[0m\u001b[1;33m[\u001b[0m\u001b[1;36m2\u001b[0m\u001b[1;33m,\u001b[0m\u001b[1;36m3\u001b[0m\u001b[1;33m,\u001b[0m\u001b[1;36m6\u001b[0m\u001b[1;33m]\u001b[0m\u001b[1;33m,\u001b[0m\u001b[1;33m[\u001b[0m\u001b[1;36m4\u001b[0m\u001b[1;33m,\u001b[0m\u001b[1;36m5\u001b[0m\u001b[1;33m,\u001b[0m\u001b[1;36m9\u001b[0m\u001b[1;33m]\u001b[0m\u001b[1;33m,\u001b[0m\u001b[1;33m[\u001b[0m\u001b[1;36m1\u001b[0m\u001b[1;33m,\u001b[0m\u001b[1;36m8\u001b[0m\u001b[1;33m,\u001b[0m\u001b[1;36m7\u001b[0m\u001b[1;33m]\u001b[0m\u001b[1;33m]\u001b[0m\u001b[1;33m)\u001b[0m\u001b[1;33m\u001b[0m\u001b[0m\n\u001b[1;32m----> 3\u001b[1;33m \u001b[0ma\u001b[0m \u001b[1;33m+\u001b[0m \u001b[0mc\u001b[0m\u001b[1;33m\u001b[0m\u001b[0m\n\u001b[0m",
      "\u001b[1;31mValueError\u001b[0m: operands could not be broadcast together with shapes (2,2) (3,3) "
     ]
    }
   ],
   "source": [
    "###Not compatible matrix, 2x2 and 3x3\n",
    "a = np.array([[1,3],[5,7]])\n",
    "c = np.array([[2,3,6],[4,5,9],[1,8,7]])\n",
    "a + c"
   ]
  },
  {
   "cell_type": "code",
   "execution_count": 17,
   "metadata": {},
   "outputs": [
    {
     "data": {
      "text/plain": [
       "array([[0.25, 1.  , 2.25],\n",
       "       [4.  , 6.25, 9.  ]])"
      ]
     },
     "execution_count": 17,
     "metadata": {},
     "output_type": "execute_result"
    }
   ],
   "source": [
    "###Basic multiplication\n",
    "\n",
    "m = np.array([[1,2,3],[4,5,6]])\n",
    "n = m * .25\n",
    "np.multiply(m,n)"
   ]
  },
  {
   "cell_type": "code",
   "execution_count": 23,
   "metadata": {},
   "outputs": [
    {
     "data": {
      "text/plain": [
       "(2, 3)"
      ]
     },
     "execution_count": 23,
     "metadata": {},
     "output_type": "execute_result"
    }
   ],
   "source": [
    "###Basic multiplication\n",
    "\n",
    "a = np.array([[1,2,3,4],[5,6,7,8]])\n",
    "b = np.array([[1,2,3],[4,5,6],[7,8,9],[10,11,12]])\n",
    "\n",
    "a.shape ###verify if it is a valid multiplication 2x4\n",
    "b.shape ###verify if it is a valid multiplication 4x3\n",
    "\n",
    "###It is possible multiply both, the 4\n",
    "c = np.matmul(a,b) ### multiply and attribute it to a variable\n",
    "c\n",
    "c.shape ### the resault is the out values of the original matricies"
   ]
  },
  {
   "cell_type": "code",
   "execution_count": 24,
   "metadata": {},
   "outputs": [
    {
     "data": {
      "text/plain": [
       "array([[ 7, 10],\n",
       "       [15, 22]])"
      ]
     },
     "execution_count": 24,
     "metadata": {},
     "output_type": "execute_result"
    }
   ],
   "source": [
    "### matmul x \n",
    "\n",
    "a = np.array([[1,2],[3,4]])\n",
    "a\n",
    "# displays the following result:\n",
    "# array([[1, 2],\n",
    "#        [3, 4]])\n",
    "\n",
    "np.dot(a,a)\n",
    "# displays the following result:\n",
    "# array([[ 7, 10],\n",
    "#        [15, 22]])\n",
    "\n",
    "a.dot(a)  # you can call `dot` directly on the `ndarray`\n",
    "# displays the following result:\n",
    "# array([[ 7, 10],\n",
    "#        [15, 22]])\n",
    "\n",
    "np.matmul(a,a)\n",
    "# array([[ 7, 10],\n",
    "#        [15, 22]])"
   ]
  },
  {
   "cell_type": "code",
   "execution_count": 30,
   "metadata": {},
   "outputs": [
    {
     "data": {
      "text/plain": [
       "array([[ 1,  5,  9],\n",
       "       [ 2,  6, 10],\n",
       "       [ 3,  7, 11],\n",
       "       [ 4,  8, 12]])"
      ]
     },
     "execution_count": 30,
     "metadata": {},
     "output_type": "execute_result"
    }
   ],
   "source": [
    "### Transpose exemple\n",
    "\n",
    "m = np.array([[1,2,3,4], [5,6,7,8], [9,10,11,12]])\n",
    "m\n",
    "#Display\n",
    "#\n",
    "#array([[ 1,  2,  3,  4],\n",
    "#       [ 5,  6,  7,  8],\n",
    "#       [ 9, 10, 11, 12]])\n",
    "\n",
    "#Transpose operator\n",
    "m.T\n",
    "\n",
    "#Display\n",
    "#\n",
    "#array([[ 1,  5,  9],\n",
    "#       [ 2,  6, 10],\n",
    "#       [ 3,  7, 11],\n",
    "#       [ 4,  8, 12]])\n",
    "\n"
   ]
  },
  {
   "cell_type": "code",
   "execution_count": 31,
   "metadata": {},
   "outputs": [
    {
     "data": {
      "text/plain": [
       "array([[  1,   2,   3,   4],\n",
       "       [  5,   6,   7, 200],\n",
       "       [  9,  10,  11,  12]])"
      ]
     },
     "execution_count": 31,
     "metadata": {},
     "output_type": "execute_result"
    }
   ],
   "source": [
    "#If you storage the transpose, and change the value of the original matrix, it will change the variable value as well\n",
    "\n",
    "m_t = m.T\n",
    "m_t[3][1] = 200\n",
    "m_t\n",
    "# displays the following result:\n",
    "# array([[ 1,   5, 9],\n",
    "#        [ 2,   6, 10],\n",
    "#        [ 3,   7, 11],\n",
    "#        [ 4, 200, 12]])\n",
    "\n",
    "m\n",
    "# displays the following result:\n",
    "# array([[ 1,  2,  3,   4],\n",
    "#        [ 5,  6,  7, 200],\n",
    "#        [ 9, 10, 11,  12]])"
   ]
  },
  {
   "cell_type": "code",
   "execution_count": 42,
   "metadata": {},
   "outputs": [
    {
     "data": {
      "text/plain": [
       "array([[-0.01299],\n",
       "       [ 0.00664],\n",
       "       [ 0.13494]])"
      ]
     },
     "execution_count": 42,
     "metadata": {},
     "output_type": "execute_result"
    }
   ],
   "source": [
    "# Real Exemple\n",
    "\n",
    "inputs = np.array([[-0.27,  0.45,  0.64, 0.31]])\n",
    "inputs\n",
    "\n",
    "# Display\n",
    "# array([[-0.27,  0.45,  0.64,  0.31]])\n",
    "\n",
    "inputs.shape\n",
    "# Display\n",
    "# (1, 4)\n",
    "\n",
    "weights = np.array([[0.02, 0.001, -0.03, 0.036],[0.04, -0.003, 0.025, 0.009], [0.012, -0.045, 0.28, -0.067]])\n",
    "weights\n",
    "\n",
    "#Display\n",
    "#array([[ 0.02 ,  0.001, -0.03 ,  0.036],\n",
    "#       [ 0.04 , -0.003,  0.025,  0.009],\n",
    "#       [ 0.012, -0.045,  0.28 , -0.067]])\n",
    "\n",
    "weights.shape\n",
    "# Display\n",
    "# (3, 4)\n",
    "\n",
    "#np.matmul(inputs,weights) #Not possible, incompatible shapes\n",
    "\n",
    "np.matmul(inputs,weights.T)\n",
    "\n",
    "# displays the following result:\n",
    "# array([[-0.01299,  0.00664,  0.13494]]\n",
    "\n",
    "#change the order\n",
    "np.matmul(weights, inputs.T)\n",
    "# displays the following result:\n",
    "# array([[-0.01299],# \n",
    "#        [ 0.00664],\n",
    "#        [ 0.13494]])\n"
   ]
  }
 ],
 "metadata": {
  "kernelspec": {
   "display_name": "Python 3",
   "language": "python",
   "name": "python3"
  },
  "language_info": {
   "codemirror_mode": {
    "name": "ipython",
    "version": 3
   },
   "file_extension": ".py",
   "mimetype": "text/x-python",
   "name": "python",
   "nbconvert_exporter": "python",
   "pygments_lexer": "ipython3",
   "version": "3.6.5"
  }
 },
 "nbformat": 4,
 "nbformat_minor": 2
}
